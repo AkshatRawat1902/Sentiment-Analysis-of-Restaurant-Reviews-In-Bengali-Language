{
  "cells": [
    {
      "cell_type": "markdown",
      "metadata": {
        "id": "VIKHKoZrxZkw"
      },
      "source": [
        "#Importing the libraries"
      ]
    },
    {
      "cell_type": "code",
      "execution_count": null,
      "metadata": {
        "id": "5lnXsE-ExMyw"
      },
      "outputs": [],
      "source": [
        "import numpy as np\n",
        "import pandas as pd\n",
        "import pickle\n",
        "import matplotlib.pyplot as plt\n",
        "%matplotlib inline\n",
        "import seaborn as sns\n",
        "import re,json,nltk\n",
        "from sklearn.preprocessing import LabelEncoder\n",
        "from sklearn.feature_extraction.text import TfidfVectorizer\n",
        "from sklearn.feature_extraction.text import TfidfTransformer\n",
        "from sklearn.model_selection import train_test_split\n",
        "from sklearn.metrics import classification_report,accuracy_score,precision_score,recall_score,f1_score\n",
        "stopwords_list ='stopwords-bn.txt'"
      ]
    },
    {
      "cell_type": "markdown",
      "metadata": {
        "id": "SQNt6AtVxbuh"
      },
      "source": [
        "#Importing dataset"
      ]
    },
    {
      "cell_type": "code",
      "execution_count": null,
      "metadata": {
        "colab": {
          "base_uri": "https://localhost:8080/"
        },
        "id": "jBZuNyn-xdNk",
        "outputId": "e77a0eef-91af-48a5-86d6-4fed6dbe49df"
      },
      "outputs": [
        {
          "name": "stdout",
          "output_type": "stream",
          "text": [
            "Total Reviews: 1431 \n",
            "Total Positive Reviews: 637 \n",
            "Total Negative Reviews: 794\n"
          ]
        }
      ],
      "source": [
        "data = pd.read_excel('/content/bengali_restaurant_reviews.xlsx')\n",
        "print(\"Total Reviews:\",len(data),\n",
        "      \"\\nTotal Positive Reviews:\",len(data[data.Sentiment =='positive']),\n",
        "      \"\\nTotal Negative Reviews:\",len(data[data.Sentiment=='negative']))"
      ]
    },
    {
      "cell_type": "code",
      "execution_count": null,
      "metadata": {
        "colab": {
          "base_uri": "https://localhost:8080/"
        },
        "id": "lciRL37_8bFG",
        "outputId": "ee3350a8-2694-4250-f5a2-f53f5f035110"
      },
      "outputs": [
        {
          "data": {
            "text/plain": [
              "Index(['Unnamed: 0', 'Reviews', 'Sentiment'], dtype='object')"
            ]
          },
          "execution_count": 38,
          "metadata": {},
          "output_type": "execute_result"
        }
      ],
      "source": [
        "data.columns"
      ]
    },
    {
      "cell_type": "markdown",
      "metadata": {
        "id": "ja02jXGT__4h"
      },
      "source": [
        "#Here are some unprocessed reviews"
      ]
    },
    {
      "cell_type": "code",
      "execution_count": null,
      "metadata": {
        "colab": {
          "base_uri": "https://localhost:8080/"
        },
        "id": "m1QR4I3f8fow",
        "outputId": "d5605aee-417b-4d8a-d736-9cc56f847d6a"
      },
      "outputs": [
        {
          "name": "stdout",
          "output_type": "stream",
          "text": [
            "ব্রিলিয়ান্ট......।। \n",
            " Sentiment:--  positive \n",
            "\n",
            "চমৎকার এবং বন্ধুত্বপূর্ণ পরিবেশ .. ভাল খাবার .. আমার মতে সেট মেনুটা সেরা। এটা বজায় রাখেন. \n",
            " Sentiment:--  positive \n",
            "\n",
            "চিকেনের স্বাদটা অসাধারণ,অতিরিক্ত সুস্বাদু, তাদের মুরগির আইটেমগুলো পছন্দনীয়। \n",
            " Sentiment:--  positive \n",
            "\n",
            "করররররররা। \n",
            " Sentiment:--  positive \n",
            "\n",
            "গ্রেট খাবার, ভাল জায়গা, ভাল মূল্য এবং কর্মচারীরাও ভালো :) \n",
            " Sentiment:--  positive \n",
            "\n",
            "এই স্থানটি আমার সাম্প্রতিক প্রিয় বিশেষভাবে তাদের বার্গার ভালোবাসি এই জন্য চার বার ইতিমধ্যে স্টাফ আচরণ সত্যিই ভাল সংযমের দর্শন আবার ক্যাপ্টেন কুক রেঁস্তোরা ধন্যবাদ আপনি \n",
            " Sentiment:--  positive \n",
            "\n",
            "গ্রিলটা ঠান্ডা ছিল, রুটিও শুকনো এবং শক্ত ছিল, স্টকটা পুরাতন ছিল ... খুবই খারাপ মানের খাবার ... হতাশ ... \n",
            " Sentiment:--  negative \n",
            "\n",
            "ধানমন্ডি শাখায় খাবারের গুণগত মান সবচেয়ে খারাপ এবং সার্ভিসের ক্ষেত্রেও সবচেয়ে খারাপ।  এমন ভয়ঙ্কর অভিজ্ঞতার মধ্য দিয়ে আমি আর কখনো যাইনি  এবং খাবারের দামের ক্ষেত্রেও ভয়ঙ্কর অভিজ্ঞতা। আর আসবনা এখানে। \n",
            " Sentiment:--  negative \n",
            "\n",
            "নোংরা টয়লেট, লেট সার্ভিস। তাছাড়া কাস্টমার কেয়ারের কর্মীরা ফালতু ছিল। \n",
            " Sentiment:--  negative \n",
            "\n",
            "আমি সবচেয়ে খারাপ সেবা পেয়েছিলাম !! খাবারের জন্য 1 ঘন্টা অপেক্ষা করতে হয়েছিল !!! \n",
            " Sentiment:--  negative \n",
            "\n",
            "গ্রিলটা ঠান্ডা ছিল, রুটিও শুকনো এবং শক্ত ছিল, স্টকটা পুরাতন ছিল ... খুবই খারাপ মানের খাবার ... হতাশ ... \n",
            " Sentiment:--  negative \n",
            "\n",
            "মূল্যের পরিপ্রেক্ষিতে খাদ্যের পরিমাণ খুবই কম ছিল। খাবারে মান এভারেজ ছিল। তাদের ওয়াইফাই আছে কিন্তু আমাদের পাসওয়ার্ড দিচ্ছে না। (ধনমন্ডি শাখার জন্য) \n",
            " Sentiment:--  negative \n",
            "\n",
            "লেবু ছাড়া ক্লাব সোডা, বরফে ভরাট, লেবু ছাড়া। \n",
            " Sentiment:--  negative \n",
            "\n",
            "আমি এলাকার তুলনায় অপেক্ষাকৃত নতুন এবং ২ য় বেলালকে বাছাই করার চেষ্টা করেছি এবং পরিষেবাটি নিয়ে হতাশ হয়েছি এবং আমি ভাবলাম মূল্যবান দিক দিয়ে খাদ্যটি ওভার করো। \n",
            " Sentiment:--  negative \n",
            "\n",
            "খারাপ রেস্তোরায় ঢাকা ... ..................... \n",
            " Sentiment:--  negative \n",
            "\n"
          ]
        }
      ],
      "source": [
        "sample_data = [10,100,150,200,250,600,650,666,689,640,650,700,750,800,1000]\n",
        "for i in sample_data:\n",
        "      print(data.Reviews[i],'\\n','Sentiment:-- ',data.Sentiment[i],'\\n')"
      ]
    },
    {
      "cell_type": "markdown",
      "metadata": {
        "id": "G_WM6lW_8mAa"
      },
      "source": [
        "#Data Processing"
      ]
    },
    {
      "cell_type": "code",
      "execution_count": null,
      "metadata": {
        "id": "gPbkIAQJ8ipo"
      },
      "outputs": [],
      "source": [
        "from utils import cleaned_reviews,stopwords_info,stopword_removal,process_reviews\n"
      ]
    },
    {
      "cell_type": "code",
      "execution_count": null,
      "metadata": {
        "colab": {
          "base_uri": "https://localhost:8080/"
        },
        "id": "GnmAria28pYp",
        "outputId": "4f8dad60-4535-48af-fdfc-f62d3568a0b0"
      },
      "outputs": [
        {
          "name": "stdout",
          "output_type": "stream",
          "text": [
            "Original:\n",
            " ব্রিলিয়ান্ট......।। \n",
            "Cleaned:\n",
            " ব্রিলিয়ান্ট \n",
            " Sentiment:--  positive \n",
            "\n",
            "Original:\n",
            " চমৎকার এবং বন্ধুত্বপূর্ণ পরিবেশ .. ভাল খাবার .. আমার মতে সেট মেনুটা সেরা। এটা বজায় রাখেন. \n",
            "Cleaned:\n",
            " চমৎকার বন্ধুত্বপূর্ণ পরিবেশ ভাল খাবার মতে সেট মেনুটা সেরা বজায় রাখেন \n",
            " Sentiment:--  positive \n",
            "\n",
            "Original:\n",
            " চিকেনের স্বাদটা অসাধারণ,অতিরিক্ত সুস্বাদু, তাদের মুরগির আইটেমগুলো পছন্দনীয়। \n",
            "Cleaned:\n",
            " চিকেনের স্বাদটা অসাধারণ অতিরিক্ত সুস্বাদু মুরগির আইটেমগুলো পছন্দনীয় \n",
            " Sentiment:--  positive \n",
            "\n",
            "Original:\n",
            " করররররররা। \n",
            "Cleaned:\n",
            " করররররররা \n",
            " Sentiment:--  positive \n",
            "\n",
            "Original:\n",
            " গ্রেট খাবার, ভাল জায়গা, ভাল মূল্য এবং কর্মচারীরাও ভালো :) \n",
            "Cleaned:\n",
            " গ্রেট খাবার ভাল জায়গা ভাল মূল্য কর্মচারীরাও ভালো \n",
            " Sentiment:--  positive \n",
            "\n",
            "Original:\n",
            " এই স্থানটি আমার সাম্প্রতিক প্রিয় বিশেষভাবে তাদের বার্গার ভালোবাসি এই জন্য চার বার ইতিমধ্যে স্টাফ আচরণ সত্যিই ভাল সংযমের দর্শন আবার ক্যাপ্টেন কুক রেঁস্তোরা ধন্যবাদ আপনি \n",
            "Cleaned:\n",
            " স্থানটি সাম্প্রতিক প্রিয় বিশেষভাবে বার্গার ভালোবাসি ইতিমধ্যে স্টাফ আচরণ সত্যিই ভাল সংযমের দর্শন ক্যাপ্টেন কুক রেঁস্তোরা ধন্যবাদ \n",
            " Sentiment:--  positive \n",
            "\n",
            "Original:\n",
            " গ্রিলটা ঠান্ডা ছিল, রুটিও শুকনো এবং শক্ত ছিল, স্টকটা পুরাতন ছিল ... খুবই খারাপ মানের খাবার ... হতাশ ... \n",
            "Cleaned:\n",
            " গ্রিলটা ঠান্ডা রুটিও শুকনো শক্ত স্টকটা পুরাতন খুবই খারাপ মানের খাবার হতাশ \n",
            " Sentiment:--  negative \n",
            "\n",
            "Original:\n",
            " ধানমন্ডি শাখায় খাবারের গুণগত মান সবচেয়ে খারাপ এবং সার্ভিসের ক্ষেত্রেও সবচেয়ে খারাপ।  এমন ভয়ঙ্কর অভিজ্ঞতার মধ্য দিয়ে আমি আর কখনো যাইনি  এবং খাবারের দামের ক্ষেত্রেও ভয়ঙ্কর অভিজ্ঞতা। আর আসবনা এখানে। \n",
            "Cleaned:\n",
            " ধানমন্ডি শাখায় খাবারের গুণগত মান সবচেয়ে খারাপ সার্ভিসের ক্ষেত্রেও সবচেয়ে খারাপ ভয়ঙ্কর অভিজ্ঞতার মধ্য দিয়ে কখনো যাইনি খাবারের দামের ক্ষেত্রেও ভয়ঙ্কর অভিজ্ঞতা আসবনা \n",
            " Sentiment:--  negative \n",
            "\n",
            "Original:\n",
            " নোংরা টয়লেট, লেট সার্ভিস। তাছাড়া কাস্টমার কেয়ারের কর্মীরা ফালতু ছিল। \n",
            "Cleaned:\n",
            " নোংরা টয়লেট লেট সার্ভিস তাছাড়া কাস্টমার কেয়ারের কর্মীরা ফালতু \n",
            " Sentiment:--  negative \n",
            "\n",
            "Original:\n",
            " আমি সবচেয়ে খারাপ সেবা পেয়েছিলাম !! খাবারের জন্য 1 ঘন্টা অপেক্ষা করতে হয়েছিল !!! \n",
            "Cleaned:\n",
            " সবচেয়ে খারাপ সেবা পেয়েছিলাম খাবারের ঘন্টা অপেক্ষা হয়েছিল \n",
            " Sentiment:--  negative \n",
            "\n",
            "Original:\n",
            " গ্রিলটা ঠান্ডা ছিল, রুটিও শুকনো এবং শক্ত ছিল, স্টকটা পুরাতন ছিল ... খুবই খারাপ মানের খাবার ... হতাশ ... \n",
            "Cleaned:\n",
            " গ্রিলটা ঠান্ডা রুটিও শুকনো শক্ত স্টকটা পুরাতন খুবই খারাপ মানের খাবার হতাশ \n",
            " Sentiment:--  negative \n",
            "\n",
            "Original:\n",
            " মূল্যের পরিপ্রেক্ষিতে খাদ্যের পরিমাণ খুবই কম ছিল। খাবারে মান এভারেজ ছিল। তাদের ওয়াইফাই আছে কিন্তু আমাদের পাসওয়ার্ড দিচ্ছে না। (ধনমন্ডি শাখার জন্য) \n",
            "Cleaned:\n",
            " মূল্যের পরিপ্রেক্ষিতে খাদ্যের পরিমাণ খুবই কম খাবারে মান এভারেজ ওয়াইফাই পাসওয়ার্ড দিচ্ছে না ধনমন্ডি শাখার \n",
            " Sentiment:--  negative \n",
            "\n",
            "Original:\n",
            " লেবু ছাড়া ক্লাব সোডা, বরফে ভরাট, লেবু ছাড়া। \n",
            "Cleaned:\n",
            " লেবু ছাড়া ক্লাব সোডা বরফে ভরাট লেবু ছাড়া \n",
            " Sentiment:--  negative \n",
            "\n",
            "Original:\n",
            " আমি এলাকার তুলনায় অপেক্ষাকৃত নতুন এবং ২ য় বেলালকে বাছাই করার চেষ্টা করেছি এবং পরিষেবাটি নিয়ে হতাশ হয়েছি এবং আমি ভাবলাম মূল্যবান দিক দিয়ে খাদ্যটি ওভার করো। \n",
            "Cleaned:\n",
            " এলাকার তুলনায় অপেক্ষাকৃত ২ য় বেলালকে বাছাই চেষ্টা করেছি পরিষেবাটি হতাশ হয়েছি ভাবলাম মূল্যবান দিক দিয়ে খাদ্যটি ওভার করো \n",
            " Sentiment:--  negative \n",
            "\n",
            "Original:\n",
            " খারাপ রেস্তোরায় ঢাকা ... ..................... \n",
            "Cleaned:\n",
            " খারাপ রেস্তোরায় ঢাকা \n",
            " Sentiment:--  negative \n",
            "\n"
          ]
        }
      ],
      "source": [
        "# Apply the function into the dataframe\n",
        "data['cleaned'] = data['Reviews'].apply(process_reviews,stopwords = stopwords_list,removing_stopwords = True)\n",
        "\n",
        "# print some cleaned reviews from the dataset\n",
        "sample_data = [10,100,150,200,250,600,650,666,689,640,650,700,750,800,1000]\n",
        "for i in sample_data:\n",
        "      print('Original:\\n',data.Reviews[i],'\\nCleaned:\\n',data.cleaned[i],'\\n','Sentiment:-- ',data.Sentiment[i],'\\n')"
      ]
    },
    {
      "cell_type": "markdown",
      "metadata": {
        "id": "_0mJ6Ule9unv"
      },
      "source": [
        "# Removing low length data"
      ]
    },
    {
      "cell_type": "code",
      "execution_count": null,
      "metadata": {
        "colab": {
          "base_uri": "https://localhost:8080/"
        },
        "id": "brF5pO5J9wMo",
        "outputId": "d88dba3c-6eb2-4c24-e86d-146951bcbbe6"
      },
      "outputs": [
        {
          "name": "stdout",
          "output_type": "stream",
          "text": [
            "After Cleaning: \n",
            "Removed 91 Small Reviews \n",
            "Total Reviews: 1340 \n",
            "Total Positive Reviews: 569 \n",
            "Total Negative Reviews: 771\n"
          ]
        }
      ],
      "source": [
        "# Length of each Reveiws\n",
        "data['length'] = data['cleaned'].apply(lambda x:len(x.split()))\n",
        "# Remove the reviews with least words\n",
        "dataset = data.loc[data.length>2]\n",
        "dataset = dataset.reset_index(drop = True)\n",
        "print(\"After Cleaning:\",\"\\nRemoved {} Small Reviews\".format(len(data)-len(dataset)),\n",
        "      \"\\nTotal Reviews:\",len(dataset),\n",
        "      \"\\nTotal Positive Reviews:\",len(dataset[dataset.Sentiment =='positive']),\n",
        "      \"\\nTotal Negative Reviews:\",len(dataset[dataset.Sentiment=='negative']))"
      ]
    },
    {
      "cell_type": "code",
      "execution_count": null,
      "metadata": {
        "id": "WnjYuse49sBk"
      },
      "outputs": [],
      "source": [
        "#write the clean data to another excel\n",
        "dataset[['cleaned','Sentiment']].to_excel('clean_rr_reviews.xlsx')\n"
      ]
    },
    {
      "cell_type": "markdown",
      "metadata": {
        "id": "K5drYYRr-EPu"
      },
      "source": [
        "# Saving the cleaned data and stopwords into a pickle file\n"
      ]
    },
    {
      "cell_type": "code",
      "execution_count": null,
      "metadata": {
        "id": "Q7-tJ9b99-8_"
      },
      "outputs": [],
      "source": [
        "data = pd.read_excel('clean_rr_reviews.xlsx')\n"
      ]
    },
    {
      "cell_type": "code",
      "execution_count": null,
      "metadata": {
        "id": "FwYH13NC-CBJ"
      },
      "outputs": [],
      "source": [
        "# open a file, where you ant to store the data, using a pickle file\n",
        "file = open('rr_review_data.pkl', 'wb')\n",
        "# dump information to that file\n",
        "pickle.dump(data, file)"
      ]
    },
    {
      "cell_type": "code",
      "execution_count": null,
      "metadata": {
        "id": "LvAMtGjh-CZs"
      },
      "outputs": [],
      "source": [
        "# load the save file\n",
        "data = open('rr_review_data.pkl','rb')\n",
        "data = pickle.load(data)"
      ]
    },
    {
      "cell_type": "code",
      "execution_count": null,
      "metadata": {
        "id": "1WEPgynA-T2P"
      },
      "outputs": [],
      "source": [
        "# Stopwords pickle\n",
        "stp = open(stopwords_list,'r', encoding='utf-8').read().split()\n",
        "# open a file, where you ant to store the data\n",
        "file = open('rr_stopwords.pkl', 'wb')\n",
        "# dump information to that file\n",
        "pickle.dump(stp, file)"
      ]
    },
    {
      "cell_type": "code",
      "execution_count": null,
      "metadata": {
        "colab": {
          "base_uri": "https://localhost:8080/"
        },
        "id": "jmG89AdL-UNU",
        "outputId": "7c7b98a7-9eb1-4f1c-bad8-77c4337017a6"
      },
      "outputs": [
        {
          "data": {
            "text/plain": [
              "387"
            ]
          },
          "execution_count": 13,
          "metadata": {},
          "output_type": "execute_result"
        }
      ],
      "source": [
        "stp = open('rr_stopwords.pkl','rb')\n",
        "stp = pickle.load(stp)\n",
        "len(stp)"
      ]
    },
    {
      "cell_type": "code",
      "execution_count": null,
      "metadata": {
        "colab": {
          "base_uri": "https://localhost:8080/",
          "height": 36
        },
        "id": "o_-1dGAH-cuf",
        "outputId": "a7eb697c-2756-4572-c12a-3394dc77ce32"
      },
      "outputs": [
        {
          "data": {
            "application/vnd.google.colaboratory.intrinsic+json": {
              "type": "string"
            },
            "text/plain": [
              "'খাবার ভাল তাছাড়া পরিবেশটা চমৎকার'"
            ]
          },
          "execution_count": 14,
          "metadata": {},
          "output_type": "execute_result"
        }
      ],
      "source": [
        "#processing of a sample review\n",
        "tweet = 'খাবার ভাল ছিল, তাছাড়া পরিবেশটা ও চমৎকার ।। ।।!!!!'\n",
        "process_reviews(review = tweet, stopwords =stopwords_list,removing_stopwords=True)"
      ]
    },
    {
      "cell_type": "markdown",
      "metadata": {
        "id": "rAUei2qtIBZa"
      },
      "source": [
        "#Dataset summary"
      ]
    },
    {
      "cell_type": "code",
      "execution_count": null,
      "metadata": {
        "colab": {
          "base_uri": "https://localhost:8080/"
        },
        "id": "fBYFALZqICzM",
        "outputId": "5561819f-5a99-4bc6-edb7-b8e560a58278"
      },
      "outputs": [
        {
          "name": "stdout",
          "output_type": "stream",
          "text": [
            "\n",
            "Class Name :  negative\n",
            "Number of Documents:771\n",
            "Number of Words:12976\n",
            "Number of Unique Words:3291\n",
            "Most Frequent Words:\n",
            "\n",
            "না\t395\n",
            "খাদ্য\t326\n",
            "খারাপ\t323\n",
            "ভাল\t195\n",
            "খাবার\t147\n",
            "সেবা\t120\n",
            "স্বাদ\t111\n",
            "মত\t76\n",
            "মুরগির\t74\n",
            "সময়\t73\n",
            "\n",
            "Class Name :  positive\n",
            "Number of Documents:569\n",
            "Number of Words:5923\n",
            "Number of Unique Words:1578\n",
            "Most Frequent Words:\n",
            "\n",
            "ভাল\t302\n",
            "খাদ্য\t174\n",
            "খাবার\t164\n",
            "জায়গা\t121\n",
            "চমৎকার\t108\n",
            "সুস্বাদু\t80\n",
            "পরিবেশ\t77\n",
            "সেবা\t72\n",
            "সেরা\t66\n",
            "সত্যিই\t58\n"
          ]
        }
      ],
      "source": [
        "from utils import data_summary\n",
        "documents,words,u_words,class_names = data_summary(dataset)"
      ]
    },
    {
      "cell_type": "markdown",
      "metadata": {
        "id": "ctqFJdlWAzr2"
      },
      "source": [
        "#Visualization"
      ]
    },
    {
      "cell_type": "code",
      "execution_count": null,
      "metadata": {
        "colab": {
          "base_uri": "https://localhost:8080/"
        },
        "id": "uvBomT8-IJAk",
        "outputId": "89320c72-f0d8-4416-9671-7f044456b9d8"
      },
      "outputs": [
        {
          "name": "stdout",
          "output_type": "stream",
          "text": [
            "  Class Names         Category  Values\n",
            "0    negative  Total Documents     771\n",
            "1    positive  Total Documents     569\n",
            "2    negative      Total Words   12976\n",
            "3    positive      Total Words    5923\n",
            "4    negative     Unique Words    3291\n",
            "5    positive     Unique Words    1578\n"
          ]
        }
      ],
      "source": [
        "data_matrix = pd.DataFrame({'Total Documents':documents,\n",
        "                            'Total Words':words,\n",
        "                            'Unique Words':u_words,\n",
        "                            'Class Names':class_names})\n",
        "df = pd.melt(data_matrix, id_vars=\"Class Names\", var_name=\"Category\", value_name=\"Values\")\n",
        "print(df)"
      ]
    },
    {
      "cell_type": "code",
      "execution_count": null,
      "metadata": {
        "colab": {
          "base_uri": "https://localhost:8080/",
          "height": 323
        },
        "id": "usd-Eqw6ILle",
        "outputId": "fb1901d1-4d1c-4d32-bd57-4a372c6e9833"
      },
      "outputs": [
        {
          "data": {
            "image/png": "[encoded data removed]",
            "text/plain": [
              "<Figure size 432x288 with 1 Axes>"
            ]
          },
          "metadata": {
            "needs_background": "light"
          },
          "output_type": "display_data"
        }
      ],
      "source": [
        "plt.figure(figsize=(6, 4))\n",
        "ax = plt.subplot()\n",
        "\n",
        "sns.barplot(data=df,x='Class Names', y='Values' ,hue='Category')\n",
        "ax.set_xlabel('Class Names')\n",
        "ax.set_title('Data Statistics')\n",
        "\n",
        "ax.xaxis.set_ticklabels(class_names, rotation=45);"
      ]
    },
    {
      "cell_type": "markdown",
      "metadata": {
        "id": "2_scUtL9IrZY"
      },
      "source": [
        "#Using TF IDF (term frequency for bigram and trigram)"
      ]
    },
    {
      "cell_type": "code",
      "execution_count": null,
      "metadata": {
        "id": "7h35mGlsIyaG"
      },
      "outputs": [],
      "source": [
        "from utils import calc_unigram_tfidf,calc_bigram_tfidf,calc_trigram_tfidf,show_tfidf\n"
      ]
    },
    {
      "cell_type": "code",
      "execution_count": null,
      "metadata": {
        "colab": {
          "base_uri": "https://localhost:8080/"
        },
        "id": "893k1isJI0sM",
        "outputId": "b7af9106-867f-4615-f0fb-b418979d4d04"
      },
      "outputs": [
        {
          "name": "stdout",
          "output_type": "stream",
          "text": [
            "Sample Review:  খাবার ভাল ছিল, তাছাড়া পরিবেশটা ও চমৎকার ।। ।।!!!!\n",
            "                          tfidf\n",
            "পরিবেশটা               0.595586\n",
            "তাছাড়া                 0.507178\n",
            "খাবার ভাল              0.459412\n",
            "চমৎকার                 0.295473\n",
            "খাবার                  0.225230\n",
            "ভাল                    0.197370\n",
            "বেশী এছাড়াও ধানমন্ডি  0.000000\n",
            "বেশী এছাড়াও           0.000000\n",
            "বেশী উষ্ণতা এসি        0.000000\n"
          ]
        },
        {
          "name": "stderr",
          "output_type": "stream",
          "text": [
            "/usr/local/lib/python3.7/dist-packages/sklearn/utils/deprecation.py:87: FutureWarning: Function get_feature_names is deprecated; get_feature_names is deprecated in 1.0 and will be removed in 1.2. Please use get_feature_names_out instead.\n",
            "  warnings.warn(msg, category=FutureWarning)\n"
          ]
        }
      ],
      "source": [
        "tweet = 'খাবার ভাল ছিল, তাছাড়া পরিবেশটা ও চমৎকার ।। ।।!!!!'  #the food was good and the atmosphere was also nice\n",
        "cv,feature_vector = calc_trigram_tfidf(dataset.cleaned)\n",
        "#print(\"Shape of TF-IDF Corpus =====>\",feature_vector.shape,'\\n')\n",
        "show_tfidf(cv,tweet)\n"
      ]
    },
    {
      "cell_type": "markdown",
      "metadata": {
        "id": "8aWfz8ZjKmk3"
      },
      "source": [
        "#Training our model using unigram and tf idf"
      ]
    },
    {
      "cell_type": "code",
      "execution_count": null,
      "metadata": {
        "colab": {
          "base_uri": "https://localhost:8080/"
        },
        "id": "B4aDr4FpKseT",
        "outputId": "bc596dfd-8c07-403d-b5c4-524224879a7c"
      },
      "outputs": [
        {
          "name": "stdout",
          "output_type": "stream",
          "text": [
            "Feature Size :======> 3968\n",
            "\n",
            "Dataset Distribution:\n",
            "\n",
            "\tSet Name \t\tSize\n",
            "\t========\t\t======\n",
            "\tFull\t\t\t 1340 \n",
            "\tTraining\t\t 1072 \n",
            "\tTest\t\t\t 268\n"
          ]
        }
      ],
      "source": [
        "from utils import label_encoding,dataset_split\n",
        "from utils import calc_unigram_tfidf\n",
        "\n",
        "# calculate the Unigram Tf-idf feature\n",
        "cv,feature_vector = calc_unigram_tfidf(dataset.cleaned)\n",
        "# Encode the labels\n",
        "lables = label_encoding(dataset.Sentiment,False)\n",
        "# Split the Feature into train and test set\n",
        "X_train,X_test,y_train,y_test = dataset_split(feature_space=feature_vector,sentiment=lables)"
      ]
    },
    {
      "cell_type": "code",
      "execution_count": null,
      "metadata": {
        "colab": {
          "base_uri": "https://localhost:8080/"
        },
        "id": "PefI6vbRK0QJ",
        "outputId": "df40fe73-49a6-441c-a31c-101e94f4fea7"
      },
      "outputs": [
        {
          "name": "stderr",
          "output_type": "stream",
          "text": [
            "/usr/local/lib/python3.7/dist-packages/sklearn/linear_model/_stochastic_gradient.py:700: ConvergenceWarning: Maximum number of iteration reached before convergence. Consider increasing max_iter to improve the fit.\n",
            "  ConvergenceWarning,\n"
          ]
        }
      ],
      "source": [
        "from utils import model_performace,ml_models_for_unigram_tfidf\n",
        "\n",
        "## classifiers defination\n",
        "ml_models,model_names = ml_models_for_unigram_tfidf()\n",
        "\n",
        "# call model accuracy function and save the metrices into a dictionary\n",
        "accuracy = {f'{model_names[i]}':model_performace(model,X_train,X_test,y_train,y_test) for i,model in enumerate(ml_models)}\n",
        "# Save the performance parameter into json file\n",
        "with open('ml_performance_unigram.json', 'w') as f:\n",
        "    json.dump(accuracy, f)"
      ]
    },
    {
      "cell_type": "markdown",
      "metadata": {
        "id": "Q8o8OJkvAX2w"
      },
      "source": [
        "#Checking scores for all algorithms"
      ]
    },
    {
      "cell_type": "code",
      "execution_count": null,
      "metadata": {
        "colab": {
          "base_uri": "https://localhost:8080/",
          "height": 300
        },
        "id": "EgPuDxXCLE0t",
        "outputId": "dda7632b-f17e-490f-a8a6-fffec12545db"
      },
      "outputs": [
        {
          "data": {
            "text/html": [
              "\n",
              "  <div id=\"df-e394d5f9-8b8b-4372-a451-527c6a591d3d\">\n",
              "    <div class=\"colab-df-container\">\n",
              "      <div>\n",
              "<style scoped>\n",
              "    .dataframe tbody tr th:only-of-type {\n",
              "        vertical-align: middle;\n",
              "    }\n",
              "\n",
              "    .dataframe tbody tr th {\n",
              "        vertical-align: top;\n",
              "    }\n",
              "\n",
              "    .dataframe thead th {\n",
              "        text-align: right;\n",
              "    }\n",
              "</style>\n",
              "<table border=\"1\" class=\"dataframe\">\n",
              "  <thead>\n",
              "    <tr style=\"text-align: right;\">\n",
              "      <th></th>\n",
              "      <th>Accuracy</th>\n",
              "      <th>Precision</th>\n",
              "      <th>Recall</th>\n",
              "      <th>F1 Score</th>\n",
              "    </tr>\n",
              "  </thead>\n",
              "  <tbody>\n",
              "    <tr>\n",
              "      <th>LR</th>\n",
              "      <td>89.18</td>\n",
              "      <td>92.31</td>\n",
              "      <td>82.05</td>\n",
              "      <td>86.88</td>\n",
              "    </tr>\n",
              "    <tr>\n",
              "      <th>DT</th>\n",
              "      <td>82.46</td>\n",
              "      <td>81.25</td>\n",
              "      <td>77.78</td>\n",
              "      <td>79.48</td>\n",
              "    </tr>\n",
              "    <tr>\n",
              "      <th>RF</th>\n",
              "      <td>89.55</td>\n",
              "      <td>90.09</td>\n",
              "      <td>85.47</td>\n",
              "      <td>87.72</td>\n",
              "    </tr>\n",
              "    <tr>\n",
              "      <th>MNB</th>\n",
              "      <td>91.04</td>\n",
              "      <td>86.05</td>\n",
              "      <td>94.87</td>\n",
              "      <td>90.24</td>\n",
              "    </tr>\n",
              "    <tr>\n",
              "      <th>KNN</th>\n",
              "      <td>83.96</td>\n",
              "      <td>78.03</td>\n",
              "      <td>88.03</td>\n",
              "      <td>82.73</td>\n",
              "    </tr>\n",
              "    <tr>\n",
              "      <th>Linear SVM</th>\n",
              "      <td>87.69</td>\n",
              "      <td>93.75</td>\n",
              "      <td>76.92</td>\n",
              "      <td>84.51</td>\n",
              "    </tr>\n",
              "    <tr>\n",
              "      <th>RBF SVM</th>\n",
              "      <td>89.93</td>\n",
              "      <td>92.45</td>\n",
              "      <td>83.76</td>\n",
              "      <td>87.89</td>\n",
              "    </tr>\n",
              "    <tr>\n",
              "      <th>SGD</th>\n",
              "      <td>92.16</td>\n",
              "      <td>92.11</td>\n",
              "      <td>89.74</td>\n",
              "      <td>90.91</td>\n",
              "    </tr>\n",
              "  </tbody>\n",
              "</table>\n",
              "</div>\n",
              "      <button class=\"colab-df-convert\" onclick=\"convertToInteractive('df-e394d5f9-8b8b-4372-a451-527c6a591d3d')\"\n",
              "              title=\"Convert this dataframe to an interactive table.\"\n",
              "              style=\"display:none;\">\n",
              "        \n",
              "  <svg xmlns=\"http://www.w3.org/2000/svg\" height=\"24px\"viewBox=\"0 0 24 24\"\n",
              "       width=\"24px\">\n",
              "    <path d=\"M0 0h24v24H0V0z\" fill=\"none\"/>\n",
              "    <path d=\"M18.56 5.44l.94 2.06.94-2.06 2.06-.94-2.06-.94-.94-2.06-.94 2.06-2.06.94zm-11 1L8.5 8.5l.94-2.06 2.06-.94-2.06-.94L8.5 2.5l-.94 2.06-2.06.94zm10 10l.94 2.06.94-2.06 2.06-.94-2.06-.94-.94-2.06-.94 2.06-2.06.94z\"/><path d=\"M17.41 7.96l-1.37-1.37c-.4-.4-.92-.59-1.43-.59-.52 0-1.04.2-1.43.59L10.3 9.45l-7.72 7.72c-.78.78-.78 2.05 0 2.83L4 21.41c.39.39.9.59 1.41.59.51 0 1.02-.2 1.41-.59l7.78-7.78 2.81-2.81c.8-.78.8-2.07 0-2.86zM5.41 20L4 18.59l7.72-7.72 1.47 1.35L5.41 20z\"/>\n",
              "  </svg>\n",
              "      </button>\n",
              "      \n",
              "  <style>\n",
              "    .colab-df-container {\n",
              "      display:flex;\n",
              "      flex-wrap:wrap;\n",
              "      gap: 12px;\n",
              "    }\n",
              "\n",
              "    .colab-df-convert {\n",
              "      background-color: #E8F0FE;\n",
              "      border: none;\n",
              "      border-radius: 50%;\n",
              "      cursor: pointer;\n",
              "      display: none;\n",
              "      fill: #1967D2;\n",
              "      height: 32px;\n",
              "      padding: 0 0 0 0;\n",
              "      width: 32px;\n",
              "    }\n",
              "\n",
              "    .colab-df-convert:hover {\n",
              "      background-color: #E2EBFA;\n",
              "      box-shadow: 0px 1px 2px rgba(60, 64, 67, 0.3), 0px 1px 3px 1px rgba(60, 64, 67, 0.15);\n",
              "      fill: #174EA6;\n",
              "    }\n",
              "\n",
              "    [theme=dark] .colab-df-convert {\n",
              "      background-color: #3B4455;\n",
              "      fill: #D2E3FC;\n",
              "    }\n",
              "\n",
              "    [theme=dark] .colab-df-convert:hover {\n",
              "      background-color: #434B5C;\n",
              "      box-shadow: 0px 1px 3px 1px rgba(0, 0, 0, 0.15);\n",
              "      filter: drop-shadow(0px 1px 2px rgba(0, 0, 0, 0.3));\n",
              "      fill: #FFFFFF;\n",
              "    }\n",
              "  </style>\n",
              "\n",
              "      <script>\n",
              "        const buttonEl =\n",
              "          document.querySelector('#df-e394d5f9-8b8b-4372-a451-527c6a591d3d button.colab-df-convert');\n",
              "        buttonEl.style.display =\n",
              "          google.colab.kernel.accessAllowed ? 'block' : 'none';\n",
              "\n",
              "        async function convertToInteractive(key) {\n",
              "          const element = document.querySelector('#df-e394d5f9-8b8b-4372-a451-527c6a591d3d');\n",
              "          const dataTable =\n",
              "            await google.colab.kernel.invokeFunction('convertToInteractive',\n",
              "                                                     [key], {});\n",
              "          if (!dataTable) return;\n",
              "\n",
              "          const docLinkHtml = 'Like what you see? Visit the ' +\n",
              "            '<a target=\"_blank\" href=https://colab.research.google.com/notebooks/data_table.ipynb>data table notebook</a>'\n",
              "            + ' to learn more about interactive tables.';\n",
              "          element.innerHTML = '';\n",
              "          dataTable['output_type'] = 'display_data';\n",
              "          await google.colab.output.renderOutput(dataTable, element);\n",
              "          const docLink = document.createElement('div');\n",
              "          docLink.innerHTML = docLinkHtml;\n",
              "          element.appendChild(docLink);\n",
              "        }\n",
              "      </script>\n",
              "    </div>\n",
              "  </div>\n",
              "  "
            ],
            "text/plain": [
              "            Accuracy  Precision  Recall  F1 Score\n",
              "LR             89.18      92.31   82.05     86.88\n",
              "DT             82.46      81.25   77.78     79.48\n",
              "RF             89.55      90.09   85.47     87.72\n",
              "MNB            91.04      86.05   94.87     90.24\n",
              "KNN            83.96      78.03   88.03     82.73\n",
              "Linear SVM     87.69      93.75   76.92     84.51\n",
              "RBF SVM        89.93      92.45   83.76     87.89\n",
              "SGD            92.16      92.11   89.74     90.91"
            ]
          },
          "execution_count": 22,
          "metadata": {},
          "output_type": "execute_result"
        }
      ],
      "source": [
        "from utils import performance_table\n",
        "\n",
        "# Load the json file\n",
        "accuracy = json.load(open('ml_performance_unigram.json'))\n",
        "table = performance_table(accuracy)\n",
        "table"
      ]
    },
    {
      "cell_type": "code",
      "execution_count": null,
      "metadata": {
        "colab": {
          "base_uri": "https://localhost:8080/"
        },
        "id": "va04MHExLR_l",
        "outputId": "71e40b68-3540-4824-9197-a472589cf3d7"
      },
      "outputs": [
        {
          "name": "stdout",
          "output_type": "stream",
          "text": [
            "Highest Accuracy achieved by SGD at = 92.16\n",
            "Highest F1-Score achieved by SGD at = 90.91\n",
            "Highest Precision Score achieved by Linear SVM at = 93.75\n",
            "Highest Recall Score achieved by MNB at = 94.87\n"
          ]
        }
      ],
      "source": [
        "print(f\"Highest Accuracy achieved by {table.Accuracy.idxmax(axis = 0)} at = {max(table.Accuracy)}\")\n",
        "print(f\"Highest F1-Score achieved by {table['F1 Score'].idxmax(axis = 0)} at = {max(table['F1 Score'] )}\")\n",
        "print(f\"Highest Precision Score achieved by {table['Precision'].idxmax(axis = 0)} at = {max(table['Precision'] )}\")\n",
        "print(f\"Highest Recall Score achieved by {table['Recall'].idxmax(axis = 0)} at = {max(table['Recall'] )}\")"
      ]
    },
    {
      "cell_type": "markdown",
      "metadata": {
        "id": "qvQJxq0eL3qV"
      },
      "source": [
        "# Model using bi gram"
      ]
    },
    {
      "cell_type": "code",
      "execution_count": null,
      "metadata": {
        "colab": {
          "base_uri": "https://localhost:8080/"
        },
        "id": "wMPxCr2mLnI-",
        "outputId": "35cdf68f-df08-4110-d87f-b4066853d45b"
      },
      "outputs": [
        {
          "name": "stdout",
          "output_type": "stream",
          "text": [
            "Feature Size :======> 18123\n",
            "\n",
            "Dataset Distribution:\n",
            "\n",
            "\tSet Name \t\tSize\n",
            "\t========\t\t======\n",
            "\tFull\t\t\t 1340 \n",
            "\tTraining\t\t 1072 \n",
            "\tTest\t\t\t 268\n"
          ]
        }
      ],
      "source": [
        "from utils import label_encoding,dataset_split\n",
        "from utils import calc_bigram_tfidf\n",
        "\n",
        "# calculate the Bigram Tf-idf feature\n",
        "cv,feature_vector = calc_bigram_tfidf(dataset.cleaned)\n",
        "# Encode the labels\n",
        "lables = label_encoding(dataset.Sentiment,False)\n",
        "# Split the Feature into train and test set\n",
        "X_train,X_test,y_train,y_test = dataset_split(feature_space=feature_vector,sentiment=lables)"
      ]
    },
    {
      "cell_type": "code",
      "execution_count": null,
      "metadata": {
        "colab": {
          "base_uri": "https://localhost:8080/"
        },
        "id": "zAHmuhROMOwl",
        "outputId": "39434d4f-6c05-45db-dfa9-785404aaf546"
      },
      "outputs": [
        {
          "name": "stderr",
          "output_type": "stream",
          "text": [
            "/usr/local/lib/python3.7/dist-packages/sklearn/linear_model/_stochastic_gradient.py:700: ConvergenceWarning: Maximum number of iteration reached before convergence. Consider increasing max_iter to improve the fit.\n",
            "  ConvergenceWarning,\n"
          ]
        }
      ],
      "source": [
        "from utils import model_performace,ml_models_for_bigram_tfidf\n",
        "\n",
        "# Classifiers Defination\n",
        "ml_models,model_names = ml_models_for_bigram_tfidf()\n",
        "\n",
        "# call model accuracy function and save the metrices into a dictionary\n",
        "accuracy = {f'{model_names[i]}':model_performace(model,X_train,X_test,y_train,y_test) for i,model in enumerate(ml_models)}\n",
        "# Save the performance parameter into json file\n",
        "with open('ml_performance_bigram.json', 'w') as f:\n",
        "    json.dump(accuracy, f)"
      ]
    },
    {
      "cell_type": "code",
      "execution_count": null,
      "metadata": {
        "colab": {
          "base_uri": "https://localhost:8080/",
          "height": 300
        },
        "id": "Fc5nURyuMQx2",
        "outputId": "9e953259-61d3-45d2-f35a-80b00e8eec49"
      },
      "outputs": [
        {
          "data": {
            "text/html": [
              "\n",
              "  <div id=\"df-4f31a9bb-d6bd-49fc-a787-001b1f6a40e1\">\n",
              "    <div class=\"colab-df-container\">\n",
              "      <div>\n",
              "<style scoped>\n",
              "    .dataframe tbody tr th:only-of-type {\n",
              "        vertical-align: middle;\n",
              "    }\n",
              "\n",
              "    .dataframe tbody tr th {\n",
              "        vertical-align: top;\n",
              "    }\n",
              "\n",
              "    .dataframe thead th {\n",
              "        text-align: right;\n",
              "    }\n",
              "</style>\n",
              "<table border=\"1\" class=\"dataframe\">\n",
              "  <thead>\n",
              "    <tr style=\"text-align: right;\">\n",
              "      <th></th>\n",
              "      <th>Accuracy</th>\n",
              "      <th>Precision</th>\n",
              "      <th>Recall</th>\n",
              "      <th>F1 Score</th>\n",
              "    </tr>\n",
              "  </thead>\n",
              "  <tbody>\n",
              "    <tr>\n",
              "      <th>LR</th>\n",
              "      <td>88.06</td>\n",
              "      <td>93.81</td>\n",
              "      <td>77.78</td>\n",
              "      <td>85.05</td>\n",
              "    </tr>\n",
              "    <tr>\n",
              "      <th>DT</th>\n",
              "      <td>79.48</td>\n",
              "      <td>78.18</td>\n",
              "      <td>73.50</td>\n",
              "      <td>75.77</td>\n",
              "    </tr>\n",
              "    <tr>\n",
              "      <th>RF</th>\n",
              "      <td>86.94</td>\n",
              "      <td>90.20</td>\n",
              "      <td>78.63</td>\n",
              "      <td>84.02</td>\n",
              "    </tr>\n",
              "    <tr>\n",
              "      <th>MNB</th>\n",
              "      <td>88.43</td>\n",
              "      <td>81.62</td>\n",
              "      <td>94.87</td>\n",
              "      <td>87.75</td>\n",
              "    </tr>\n",
              "    <tr>\n",
              "      <th>KNN</th>\n",
              "      <td>81.34</td>\n",
              "      <td>83.84</td>\n",
              "      <td>70.94</td>\n",
              "      <td>76.85</td>\n",
              "    </tr>\n",
              "    <tr>\n",
              "      <th>Linear SVM</th>\n",
              "      <td>83.96</td>\n",
              "      <td>94.05</td>\n",
              "      <td>67.52</td>\n",
              "      <td>78.61</td>\n",
              "    </tr>\n",
              "    <tr>\n",
              "      <th>RBF SVM</th>\n",
              "      <td>83.96</td>\n",
              "      <td>94.05</td>\n",
              "      <td>67.52</td>\n",
              "      <td>78.61</td>\n",
              "    </tr>\n",
              "    <tr>\n",
              "      <th>SGD</th>\n",
              "      <td>91.42</td>\n",
              "      <td>92.73</td>\n",
              "      <td>87.18</td>\n",
              "      <td>89.87</td>\n",
              "    </tr>\n",
              "  </tbody>\n",
              "</table>\n",
              "</div>\n",
              "      <button class=\"colab-df-convert\" onclick=\"convertToInteractive('df-4f31a9bb-d6bd-49fc-a787-001b1f6a40e1')\"\n",
              "              title=\"Convert this dataframe to an interactive table.\"\n",
              "              style=\"display:none;\">\n",
              "        \n",
              "  <svg xmlns=\"http://www.w3.org/2000/svg\" height=\"24px\"viewBox=\"0 0 24 24\"\n",
              "       width=\"24px\">\n",
              "    <path d=\"M0 0h24v24H0V0z\" fill=\"none\"/>\n",
              "    <path d=\"M18.56 5.44l.94 2.06.94-2.06 2.06-.94-2.06-.94-.94-2.06-.94 2.06-2.06.94zm-11 1L8.5 8.5l.94-2.06 2.06-.94-2.06-.94L8.5 2.5l-.94 2.06-2.06.94zm10 10l.94 2.06.94-2.06 2.06-.94-2.06-.94-.94-2.06-.94 2.06-2.06.94z\"/><path d=\"M17.41 7.96l-1.37-1.37c-.4-.4-.92-.59-1.43-.59-.52 0-1.04.2-1.43.59L10.3 9.45l-7.72 7.72c-.78.78-.78 2.05 0 2.83L4 21.41c.39.39.9.59 1.41.59.51 0 1.02-.2 1.41-.59l7.78-7.78 2.81-2.81c.8-.78.8-2.07 0-2.86zM5.41 20L4 18.59l7.72-7.72 1.47 1.35L5.41 20z\"/>\n",
              "  </svg>\n",
              "      </button>\n",
              "      \n",
              "  <style>\n",
              "    .colab-df-container {\n",
              "      display:flex;\n",
              "      flex-wrap:wrap;\n",
              "      gap: 12px;\n",
              "    }\n",
              "\n",
              "    .colab-df-convert {\n",
              "      background-color: #E8F0FE;\n",
              "      border: none;\n",
              "      border-radius: 50%;\n",
              "      cursor: pointer;\n",
              "      display: none;\n",
              "      fill: #1967D2;\n",
              "      height: 32px;\n",
              "      padding: 0 0 0 0;\n",
              "      width: 32px;\n",
              "    }\n",
              "\n",
              "    .colab-df-convert:hover {\n",
              "      background-color: #E2EBFA;\n",
              "      box-shadow: 0px 1px 2px rgba(60, 64, 67, 0.3), 0px 1px 3px 1px rgba(60, 64, 67, 0.15);\n",
              "      fill: #174EA6;\n",
              "    }\n",
              "\n",
              "    [theme=dark] .colab-df-convert {\n",
              "      background-color: #3B4455;\n",
              "      fill: #D2E3FC;\n",
              "    }\n",
              "\n",
              "    [theme=dark] .colab-df-convert:hover {\n",
              "      background-color: #434B5C;\n",
              "      box-shadow: 0px 1px 3px 1px rgba(0, 0, 0, 0.15);\n",
              "      filter: drop-shadow(0px 1px 2px rgba(0, 0, 0, 0.3));\n",
              "      fill: #FFFFFF;\n",
              "    }\n",
              "  </style>\n",
              "\n",
              "      <script>\n",
              "        const buttonEl =\n",
              "          document.querySelector('#df-4f31a9bb-d6bd-49fc-a787-001b1f6a40e1 button.colab-df-convert');\n",
              "        buttonEl.style.display =\n",
              "          google.colab.kernel.accessAllowed ? 'block' : 'none';\n",
              "\n",
              "        async function convertToInteractive(key) {\n",
              "          const element = document.querySelector('#df-4f31a9bb-d6bd-49fc-a787-001b1f6a40e1');\n",
              "          const dataTable =\n",
              "            await google.colab.kernel.invokeFunction('convertToInteractive',\n",
              "                                                     [key], {});\n",
              "          if (!dataTable) return;\n",
              "\n",
              "          const docLinkHtml = 'Like what you see? Visit the ' +\n",
              "            '<a target=\"_blank\" href=https://colab.research.google.com/notebooks/data_table.ipynb>data table notebook</a>'\n",
              "            + ' to learn more about interactive tables.';\n",
              "          element.innerHTML = '';\n",
              "          dataTable['output_type'] = 'display_data';\n",
              "          await google.colab.output.renderOutput(dataTable, element);\n",
              "          const docLink = document.createElement('div');\n",
              "          docLink.innerHTML = docLinkHtml;\n",
              "          element.appendChild(docLink);\n",
              "        }\n",
              "      </script>\n",
              "    </div>\n",
              "  </div>\n",
              "  "
            ],
            "text/plain": [
              "            Accuracy  Precision  Recall  F1 Score\n",
              "LR             88.06      93.81   77.78     85.05\n",
              "DT             79.48      78.18   73.50     75.77\n",
              "RF             86.94      90.20   78.63     84.02\n",
              "MNB            88.43      81.62   94.87     87.75\n",
              "KNN            81.34      83.84   70.94     76.85\n",
              "Linear SVM     83.96      94.05   67.52     78.61\n",
              "RBF SVM        83.96      94.05   67.52     78.61\n",
              "SGD            91.42      92.73   87.18     89.87"
            ]
          },
          "execution_count": 26,
          "metadata": {},
          "output_type": "execute_result"
        }
      ],
      "source": [
        "from utils import performance_table\n",
        "\n",
        "# Load the json file\n",
        "accuracy = json.load(open('ml_performance_bigram.json'))\n",
        "table = performance_table(accuracy)\n",
        "table"
      ]
    },
    {
      "cell_type": "code",
      "execution_count": null,
      "metadata": {
        "colab": {
          "base_uri": "https://localhost:8080/"
        },
        "id": "C-aLgrNBMTDP",
        "outputId": "8a2f2e12-7660-4fa7-9855-e263861550f7"
      },
      "outputs": [
        {
          "name": "stdout",
          "output_type": "stream",
          "text": [
            "Highest Accuracy achieved by SGD at = 91.42\n",
            "Highest F1-Score achieved by SGD at = 89.87\n",
            "Highest Precision Score achieved by Linear SVM at = 94.05\n",
            "Highest Recall Score achieved by MNB at = 94.87\n"
          ]
        }
      ],
      "source": [
        "print(f\"Highest Accuracy achieved by {table.Accuracy.idxmax(axis = 0)} at = {max(table.Accuracy)}\")\n",
        "print(f\"Highest F1-Score achieved by {table['F1 Score'].idxmax(axis = 0)} at = {max(table['F1 Score'] )}\")\n",
        "print(f\"Highest Precision Score achieved by {table['Precision'].idxmax(axis = 0)} at = {max(table['Precision'] )}\")\n",
        "print(f\"Highest Recall Score achieved by {table['Recall'].idxmax(axis = 0)} at = {max(table['Recall'] )}\")"
      ]
    },
    {
      "cell_type": "markdown",
      "metadata": {
        "id": "uB2-9UJsMWiy"
      },
      "source": [
        "#Using trigram"
      ]
    },
    {
      "cell_type": "code",
      "execution_count": null,
      "metadata": {
        "colab": {
          "base_uri": "https://localhost:8080/"
        },
        "id": "btyn0si1MXVC",
        "outputId": "d0dcef21-a2b4-4649-93ca-7e6cbc01f88c"
      },
      "outputs": [
        {
          "name": "stdout",
          "output_type": "stream",
          "text": [
            "Feature Size :======> 33852\n",
            "\n",
            "Dataset Distribution:\n",
            "\n",
            "\tSet Name \t\tSize\n",
            "\t========\t\t======\n",
            "\tFull\t\t\t 1340 \n",
            "\tTraining\t\t 1072 \n",
            "\tTest\t\t\t 268\n"
          ]
        }
      ],
      "source": [
        "from utils import label_encoding,dataset_split\n",
        "from utils import calc_trigram_tfidf\n",
        "\n",
        "# calculate the Tri-gram Tf-idf feature\n",
        "cv,feature_vector = calc_trigram_tfidf(dataset.cleaned)\n",
        "# Encode the labels\n",
        "lables = label_encoding(dataset.Sentiment,False)\n",
        "# Split the Feature into train and test set\n",
        "X_train,X_test,y_train,y_test = dataset_split(feature_space=feature_vector,sentiment=lables)\n"
      ]
    },
    {
      "cell_type": "code",
      "execution_count": null,
      "metadata": {
        "colab": {
          "base_uri": "https://localhost:8080/"
        },
        "id": "Dn2hjOPcMZoG",
        "outputId": "945ff114-db0e-4b9c-cac9-5d3a623550b6"
      },
      "outputs": [
        {
          "name": "stderr",
          "output_type": "stream",
          "text": [
            "/usr/local/lib/python3.7/dist-packages/sklearn/linear_model/_stochastic_gradient.py:700: ConvergenceWarning: Maximum number of iteration reached before convergence. Consider increasing max_iter to improve the fit.\n",
            "  ConvergenceWarning,\n"
          ]
        }
      ],
      "source": [
        "from utils import model_performace,ml_models_for_trigram_tfidf\n",
        "\n",
        "\n",
        "# Classifiers Defination\n",
        "ml_models,model_names = ml_models_for_trigram_tfidf()\n",
        "\n",
        "# call model accuracy function and save the metrices into a dictionary\n",
        "accuracy = {f'{model_names[i]}':model_performace(model,X_train,X_test,y_train,y_test) for i,model in enumerate(ml_models)}\n",
        "# Save the performance parameter into json file\n",
        "with open('ml_performance_trigram.json', 'w') as f:\n",
        "    json.dump(accuracy, f)"
      ]
    },
    {
      "cell_type": "code",
      "execution_count": null,
      "metadata": {
        "colab": {
          "base_uri": "https://localhost:8080/",
          "height": 300
        },
        "id": "Gsjh5kRfMd8n",
        "outputId": "1b2c0eff-9ce4-49f0-c5a6-98009633b0c3"
      },
      "outputs": [
        {
          "data": {
            "text/html": [
              "\n",
              "  <div id=\"df-67e7d0c6-1009-427b-82e7-5b9c45443fc9\">\n",
              "    <div class=\"colab-df-container\">\n",
              "      <div>\n",
              "<style scoped>\n",
              "    .dataframe tbody tr th:only-of-type {\n",
              "        vertical-align: middle;\n",
              "    }\n",
              "\n",
              "    .dataframe tbody tr th {\n",
              "        vertical-align: top;\n",
              "    }\n",
              "\n",
              "    .dataframe thead th {\n",
              "        text-align: right;\n",
              "    }\n",
              "</style>\n",
              "<table border=\"1\" class=\"dataframe\">\n",
              "  <thead>\n",
              "    <tr style=\"text-align: right;\">\n",
              "      <th></th>\n",
              "      <th>Accuracy</th>\n",
              "      <th>Precision</th>\n",
              "      <th>Recall</th>\n",
              "      <th>F1 Score</th>\n",
              "    </tr>\n",
              "  </thead>\n",
              "  <tbody>\n",
              "    <tr>\n",
              "      <th>LR</th>\n",
              "      <td>83.96</td>\n",
              "      <td>94.05</td>\n",
              "      <td>67.52</td>\n",
              "      <td>78.61</td>\n",
              "    </tr>\n",
              "    <tr>\n",
              "      <th>DT</th>\n",
              "      <td>81.34</td>\n",
              "      <td>79.65</td>\n",
              "      <td>76.92</td>\n",
              "      <td>78.26</td>\n",
              "    </tr>\n",
              "    <tr>\n",
              "      <th>RF</th>\n",
              "      <td>87.69</td>\n",
              "      <td>92.86</td>\n",
              "      <td>77.78</td>\n",
              "      <td>84.65</td>\n",
              "    </tr>\n",
              "    <tr>\n",
              "      <th>MNB</th>\n",
              "      <td>86.57</td>\n",
              "      <td>77.93</td>\n",
              "      <td>96.58</td>\n",
              "      <td>86.26</td>\n",
              "    </tr>\n",
              "    <tr>\n",
              "      <th>KNN</th>\n",
              "      <td>82.09</td>\n",
              "      <td>84.85</td>\n",
              "      <td>71.79</td>\n",
              "      <td>77.78</td>\n",
              "    </tr>\n",
              "    <tr>\n",
              "      <th>Linear SVM</th>\n",
              "      <td>72.76</td>\n",
              "      <td>97.83</td>\n",
              "      <td>38.46</td>\n",
              "      <td>55.21</td>\n",
              "    </tr>\n",
              "    <tr>\n",
              "      <th>RBF SVM</th>\n",
              "      <td>83.96</td>\n",
              "      <td>95.12</td>\n",
              "      <td>66.67</td>\n",
              "      <td>78.39</td>\n",
              "    </tr>\n",
              "    <tr>\n",
              "      <th>SGD</th>\n",
              "      <td>90.67</td>\n",
              "      <td>92.59</td>\n",
              "      <td>85.47</td>\n",
              "      <td>88.89</td>\n",
              "    </tr>\n",
              "  </tbody>\n",
              "</table>\n",
              "</div>\n",
              "      <button class=\"colab-df-convert\" onclick=\"convertToInteractive('df-67e7d0c6-1009-427b-82e7-5b9c45443fc9')\"\n",
              "              title=\"Convert this dataframe to an interactive table.\"\n",
              "              style=\"display:none;\">\n",
              "        \n",
              "  <svg xmlns=\"http://www.w3.org/2000/svg\" height=\"24px\"viewBox=\"0 0 24 24\"\n",
              "       width=\"24px\">\n",
              "    <path d=\"M0 0h24v24H0V0z\" fill=\"none\"/>\n",
              "    <path d=\"M18.56 5.44l.94 2.06.94-2.06 2.06-.94-2.06-.94-.94-2.06-.94 2.06-2.06.94zm-11 1L8.5 8.5l.94-2.06 2.06-.94-2.06-.94L8.5 2.5l-.94 2.06-2.06.94zm10 10l.94 2.06.94-2.06 2.06-.94-2.06-.94-.94-2.06-.94 2.06-2.06.94z\"/><path d=\"M17.41 7.96l-1.37-1.37c-.4-.4-.92-.59-1.43-.59-.52 0-1.04.2-1.43.59L10.3 9.45l-7.72 7.72c-.78.78-.78 2.05 0 2.83L4 21.41c.39.39.9.59 1.41.59.51 0 1.02-.2 1.41-.59l7.78-7.78 2.81-2.81c.8-.78.8-2.07 0-2.86zM5.41 20L4 18.59l7.72-7.72 1.47 1.35L5.41 20z\"/>\n",
              "  </svg>\n",
              "      </button>\n",
              "      \n",
              "  <style>\n",
              "    .colab-df-container {\n",
              "      display:flex;\n",
              "      flex-wrap:wrap;\n",
              "      gap: 12px;\n",
              "    }\n",
              "\n",
              "    .colab-df-convert {\n",
              "      background-color: #E8F0FE;\n",
              "      border: none;\n",
              "      border-radius: 50%;\n",
              "      cursor: pointer;\n",
              "      display: none;\n",
              "      fill: #1967D2;\n",
              "      height: 32px;\n",
              "      padding: 0 0 0 0;\n",
              "      width: 32px;\n",
              "    }\n",
              "\n",
              "    .colab-df-convert:hover {\n",
              "      background-color: #E2EBFA;\n",
              "      box-shadow: 0px 1px 2px rgba(60, 64, 67, 0.3), 0px 1px 3px 1px rgba(60, 64, 67, 0.15);\n",
              "      fill: #174EA6;\n",
              "    }\n",
              "\n",
              "    [theme=dark] .colab-df-convert {\n",
              "      background-color: #3B4455;\n",
              "      fill: #D2E3FC;\n",
              "    }\n",
              "\n",
              "    [theme=dark] .colab-df-convert:hover {\n",
              "      background-color: #434B5C;\n",
              "      box-shadow: 0px 1px 3px 1px rgba(0, 0, 0, 0.15);\n",
              "      filter: drop-shadow(0px 1px 2px rgba(0, 0, 0, 0.3));\n",
              "      fill: #FFFFFF;\n",
              "    }\n",
              "  </style>\n",
              "\n",
              "      <script>\n",
              "        const buttonEl =\n",
              "          document.querySelector('#df-67e7d0c6-1009-427b-82e7-5b9c45443fc9 button.colab-df-convert');\n",
              "        buttonEl.style.display =\n",
              "          google.colab.kernel.accessAllowed ? 'block' : 'none';\n",
              "\n",
              "        async function convertToInteractive(key) {\n",
              "          const element = document.querySelector('#df-67e7d0c6-1009-427b-82e7-5b9c45443fc9');\n",
              "          const dataTable =\n",
              "            await google.colab.kernel.invokeFunction('convertToInteractive',\n",
              "                                                     [key], {});\n",
              "          if (!dataTable) return;\n",
              "\n",
              "          const docLinkHtml = 'Like what you see? Visit the ' +\n",
              "            '<a target=\"_blank\" href=https://colab.research.google.com/notebooks/data_table.ipynb>data table notebook</a>'\n",
              "            + ' to learn more about interactive tables.';\n",
              "          element.innerHTML = '';\n",
              "          dataTable['output_type'] = 'display_data';\n",
              "          await google.colab.output.renderOutput(dataTable, element);\n",
              "          const docLink = document.createElement('div');\n",
              "          docLink.innerHTML = docLinkHtml;\n",
              "          element.appendChild(docLink);\n",
              "        }\n",
              "      </script>\n",
              "    </div>\n",
              "  </div>\n",
              "  "
            ],
            "text/plain": [
              "            Accuracy  Precision  Recall  F1 Score\n",
              "LR             83.96      94.05   67.52     78.61\n",
              "DT             81.34      79.65   76.92     78.26\n",
              "RF             87.69      92.86   77.78     84.65\n",
              "MNB            86.57      77.93   96.58     86.26\n",
              "KNN            82.09      84.85   71.79     77.78\n",
              "Linear SVM     72.76      97.83   38.46     55.21\n",
              "RBF SVM        83.96      95.12   66.67     78.39\n",
              "SGD            90.67      92.59   85.47     88.89"
            ]
          },
          "execution_count": 30,
          "metadata": {},
          "output_type": "execute_result"
        }
      ],
      "source": [
        "from utils import performance_table\n",
        "\n",
        "# Load the json file\n",
        "accuracy = json.load(open('ml_performance_trigram.json'))\n",
        "table = performance_table(accuracy)\n",
        "table"
      ]
    },
    {
      "cell_type": "code",
      "execution_count": null,
      "metadata": {
        "colab": {
          "base_uri": "https://localhost:8080/"
        },
        "id": "rQ2-byWfMqwb",
        "outputId": "bad56d77-7a3e-4a94-de08-22ad44fe00ae"
      },
      "outputs": [
        {
          "name": "stdout",
          "output_type": "stream",
          "text": [
            "Highest Accuracy achieved by SGD at = 90.67\n",
            "Highest F1-Score achieved by SGD at = 88.89\n",
            "Highest Precision Score achieved by Linear SVM at = 97.83\n",
            "Highest Recall Score achieved by MNB at = 96.58\n"
          ]
        }
      ],
      "source": [
        "print(f\"Highest Accuracy achieved by {table.Accuracy.idxmax(axis = 0)} at = {max(table.Accuracy)}\")\n",
        "print(f\"Highest F1-Score achieved by {table['F1 Score'].idxmax(axis = 0)} at = {max(table['F1 Score'] )}\")\n",
        "print(f\"Highest Precision Score achieved by {table['Precision'].idxmax(axis = 0)} at = {max(table['Precision'] )}\")\n",
        "print(f\"Highest Recall Score achieved by {table['Recall'].idxmax(axis = 0)} at = {max(table['Recall'] )}\")"
      ]
    },
    {
      "cell_type": "markdown",
      "metadata": {
        "id": "puPVufzoMzwK"
      },
      "source": [
        "#Finally we select trigram and the Gradient Descent algorithm"
      ]
    },
    {
      "cell_type": "code",
      "execution_count": null,
      "metadata": {
        "colab": {
          "base_uri": "https://localhost:8080/"
        },
        "id": "WH_wftsoM4n1",
        "outputId": "fa8c7773-92e3-419e-84e9-0f8c7af3f307"
      },
      "outputs": [
        {
          "name": "stdout",
          "output_type": "stream",
          "text": [
            "Feature Size :======> 33852\n",
            "\n",
            "Dataset Distribution:\n",
            "\n",
            "\tSet Name \t\tSize\n",
            "\t========\t\t======\n",
            "\tFull\t\t\t 1340 \n",
            "\tTraining\t\t 1072 \n",
            "\tTest\t\t\t 268\n"
          ]
        }
      ],
      "source": [
        "from utils import label_encoding,dataset_split\n",
        "from utils import calc_unigram_tfidf\n",
        "\n",
        "# calculate the Tri-gram Tf-idf feature\n",
        "cv,feature_vector = calc_trigram_tfidf(dataset.cleaned)\n",
        "# Encode the labels\n",
        "lables = label_encoding(dataset.Sentiment,False)\n",
        "# Split the Feature into train and test set\n",
        "X_train,X_test,y_train,y_test = dataset_split(feature_space=feature_vector,sentiment=lables)"
      ]
    },
    {
      "cell_type": "code",
      "execution_count": null,
      "metadata": {
        "colab": {
          "base_uri": "https://localhost:8080/"
        },
        "id": "k_e2I7fxMzBe",
        "outputId": "115a170b-b5ab-4949-decd-6013273b6ef1"
      },
      "outputs": [
        {
          "name": "stderr",
          "output_type": "stream",
          "text": [
            "/usr/local/lib/python3.7/dist-packages/sklearn/linear_model/_stochastic_gradient.py:700: ConvergenceWarning: Maximum number of iteration reached before convergence. Consider increasing max_iter to improve the fit.\n",
            "  ConvergenceWarning,\n"
          ]
        },
        {
          "data": {
            "text/plain": [
              "90.67164179104478"
            ]
          },
          "execution_count": 33,
          "metadata": {},
          "output_type": "execute_result"
        }
      ],
      "source": [
        "from sklearn.linear_model import SGDClassifier\n",
        "from sklearn.metrics import accuracy_score\n",
        "sgd_model = SGDClassifier(loss ='log',penalty='l2', max_iter=5)\n",
        "sgd_model.fit(X_train,y_train)\n",
        "y_pred = sgd_model.predict(X_test)\n",
        "accuracy_score(y_true=y_test,y_pred=y_pred)*100"
      ]
    },
    {
      "cell_type": "code",
      "execution_count": null,
      "metadata": {
        "id": "skTwS8JuNwFu"
      },
      "outputs": [],
      "source": [
        "import pickle\n",
        "# open a file, where you ant to store the data\n",
        "file = open('rr_review_sgd.pkl', 'wb')\n",
        "\n",
        "# dump information to that file\n",
        "pickle.dump(sgd_model, file)\n"
      ]
    },
    {
      "cell_type": "code",
      "execution_count": null,
      "metadata": {
        "id": "hTxt-wsWUkjN"
      },
      "outputs": [],
      "source": [
        "model = open('rr_review_sgd.pkl','rb')\n",
        "sgd = pickle.load(model)\n"
      ]
    },
    {
      "cell_type": "code",
      "execution_count": null,
      "metadata": {
        "colab": {
          "base_uri": "https://localhost:8080/"
        },
        "id": "PoWSbH9jUm7V",
        "outputId": "e1b82c45-52d6-41c9-fe9c-b612e09874de"
      },
      "outputs": [
        {
          "data": {
            "text/plain": [
              "0.9067164179104478"
            ]
          },
          "execution_count": 45,
          "metadata": {},
          "output_type": "execute_result"
        }
      ],
      "source": [
        "y_pred = sgd.predict(X_test)\n",
        "accuracy_score(y_test,y_pred)"
      ]
    },
    {
      "cell_type": "markdown",
      "metadata": {
        "id": "I4Ns66NlBJ59"
      },
      "source": [
        "#Testing"
      ]
    },
    {
      "cell_type": "code",
      "execution_count": null,
      "metadata": {
        "colab": {
          "base_uri": "https://localhost:8080/"
        },
        "id": "r9i7EbONUvjj",
        "outputId": "c6a9a012-e05e-4959-fae5-75c4940c3ca3"
      },
      "outputs": [
        {
          "name": "stdout",
          "output_type": "stream",
          "text": [
            "It is a Negative Review and the probability is 94.0%\n"
          ]
        }
      ],
      "source": [
        "model = open('rr_review_sgd.pkl','rb')\n",
        "sgd = pickle.load(model)\n",
        "\n",
        "review = 'বাজে খাবার এবং সবচেয়ে খারাপ সার্ভিস।'\n",
        "# Process the reviews\n",
        "processed_review = process_reviews(review,stopwords = stopwords_list,removing_stopwords = True)\n",
        "if (len(processed_review))>0:\n",
        "    # calculate the Unigram Tf-idf feature\n",
        "    cv,feature_vector = calc_trigram_tfidf(dataset.cleaned)\n",
        "    feature = cv.transform([processed_review]).toarray()\n",
        "\n",
        "    sentiment = sgd.predict(feature)\n",
        "    score = round(max(sgd.predict_proba(feature).reshape(-1)),2)*100\n",
        "\n",
        "    if (sentiment ==0):\n",
        "        print(f\"It is a Negative Review and the probability is {score}%\")\n",
        "    else:\n",
        "        print(f\"It is a Positive Review and the probability is {score}%\")\n",
        "else:\n",
        "    print(\"This review doesn't contains any bengali Words, thus cannot predict the Sentiment.\")"
      ]
    }
  ],
  "metadata": {
    "colab": {
      "provenance": []
    },
    "kernelspec": {
      "display_name": "Python 3",
      "name": "python3"
    },
    "language_info": {
      "name": "python",
      "version": "3.11.5"
    }
  },
  "nbformat": 4,
  "nbformat_minor": 0
}
